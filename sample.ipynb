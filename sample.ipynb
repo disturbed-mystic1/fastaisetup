{
 "cells": [
  {
   "cell_type": "markdown",
   "id": "d2b2139a-a5a3-4488-b710-50d06a718836",
   "metadata": {},
   "source": [
    "# Walkthrough of a simple notebook"
   ]
  },
  {
   "cell_type": "code",
   "execution_count": 1,
   "id": "03572e19-bb48-47c2-a0e4-152dcf03cc8b",
   "metadata": {
    "tags": []
   },
   "outputs": [
    {
     "data": {
      "text/plain": [
       "4"
      ]
     },
     "execution_count": 1,
     "metadata": {},
     "output_type": "execute_result"
    }
   ],
   "source": [
    "1+3\n"
   ]
  },
  {
   "cell_type": "code",
   "execution_count": 2,
   "id": "6893f6d9-19b6-4564-84b9-559d7147d47a",
   "metadata": {
    "tags": []
   },
   "outputs": [],
   "source": [
    "def add():\n",
    "    x =3\n",
    "    y=4\n",
    "    return x+y"
   ]
  },
  {
   "cell_type": "code",
   "execution_count": 3,
   "id": "3acacc58-986f-4321-b3d7-9dabfcb6697f",
   "metadata": {
    "tags": []
   },
   "outputs": [
    {
     "data": {
      "text/plain": [
       "7"
      ]
     },
     "execution_count": 3,
     "metadata": {},
     "output_type": "execute_result"
    }
   ],
   "source": [
    "add()"
   ]
  },
  {
   "cell_type": "code",
   "execution_count": null,
   "id": "5b88bed6-2b6c-4bf9-9b45-5a28892811fe",
   "metadata": {},
   "outputs": [],
   "source": []
  }
 ],
 "metadata": {
  "kernelspec": {
   "display_name": "Python 3 (ipykernel)",
   "language": "python",
   "name": "python3"
  },
  "language_info": {
   "codemirror_mode": {
    "name": "ipython",
    "version": 3
   },
   "file_extension": ".py",
   "mimetype": "text/x-python",
   "name": "python",
   "nbconvert_exporter": "python",
   "pygments_lexer": "ipython3",
   "version": "3.10.9"
  }
 },
 "nbformat": 4,
 "nbformat_minor": 5
}
